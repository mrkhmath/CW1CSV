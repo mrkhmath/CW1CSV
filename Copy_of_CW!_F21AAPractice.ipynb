{
  "cells": [
    {
      "cell_type": "markdown",
      "metadata": {
        "id": "view-in-github",
        "colab_type": "text"
      },
      "source": [
        "<a href=\"https://colab.research.google.com/github/mrkhmath/CW1CSV/blob/main/Copy_of_CW!_F21AAPractice.ipynb\" target=\"_parent\"><img src=\"https://colab.research.google.com/assets/colab-badge.svg\" alt=\"Open In Colab\"/></a>"
      ]
    },
    {
      "cell_type": "markdown",
      "source": [
        "# **Technology and Innovation in UAE**(Twitter Sentiment Analysis)"
      ],
      "metadata": {
        "id": "YJgjkRin1rsF"
      }
    },
    {
      "cell_type": "markdown",
      "source": [
        "Objective\n"
      ],
      "metadata": {
        "id": "4Elpnhyl2AxZ"
      }
    },
    {
      "cell_type": "code",
      "source": [
        "import nltk\n",
        "from nltk.corpus import wordnet\n",
        "nltk.download(\"wordnet\")\n",
        "nltk.download('omw-1.4')\n",
        "from textblob import TextBlob\n",
        "import sys\n",
        "import tweepy\n",
        "import matplotlib.pyplot as plt\n",
        "import pandas as pd\n",
        "from google.colab import files\n",
        "from textblob import TextBlob"
      ],
      "metadata": {
        "colab": {
          "base_uri": "https://localhost:8080/"
        },
        "id": "Ngo1Flz6LSaI",
        "outputId": "b879a0bf-53a8-4086-92a7-28d2c3a13447"
      },
      "execution_count": null,
      "outputs": [
        {
          "output_type": "stream",
          "name": "stderr",
          "text": [
            "[nltk_data] Downloading package wordnet to /root/nltk_data...\n",
            "[nltk_data] Downloading package omw-1.4 to /root/nltk_data...\n"
          ]
        }
      ]
    },
    {
      "cell_type": "markdown",
      "source": [
        "# PART 1: Data Collection\n",
        "In this section, we will use our twitter developer account to collect tweets from topic: 'Innovation and Technology in UAE' using built-in python library called 'tweepy'."
      ],
      "metadata": {
        "id": "-g2Pi_2PMsx6"
      }
    },
    {
      "cell_type": "code",
      "source": [
        "# Importing the keys #\n",
        "consumerKey = \"7ZgYvwxMebYneq9UFu4XMuRfC\"\n",
        "consumerSecret = \"3z0rruATWOUUXsWTT1no15VnxMzMgulISld4rlAMtRxUAN4WB2\"\n",
        "accessToken = \"169414398-pCHBKhappRFQGFASGy32aFdGulhuMKlQ8eoVwH6F\"\n",
        "accessTokenSecret = \"SV1lkSqYL2D93IMjIarKZwHJFtsQq4o3kxZGs6ooKoooI\""
      ],
      "metadata": {
        "id": "HyVFOduy9fGq"
      },
      "execution_count": null,
      "outputs": []
    },
    {
      "cell_type": "code",
      "source": [
        "# Establish the connection with API #\n",
        "auth = tweepy.OAuthHandler(consumerKey, consumerSecret)\n",
        "auth.set_access_token(accessToken, accessTokenSecret)\n",
        "api = tweepy.API(auth, wait_on_rate_limit=True)"
      ],
      "metadata": {
        "id": "RlcSmK6U9h_v"
      },
      "execution_count": null,
      "outputs": []
    },
    {
      "cell_type": "code",
      "source": [
        "\n",
        "\n",
        "search_keywords=[\"Technology UAE\",\"Innovation UAE\",\"Space UAE\",\"G5 UAE\",\"Telecommunication UAE\",\"GITEX UAE\",\"Artificial Intelligence UAE\"]\n",
        "\n",
        "new_tweets=[]\n",
        "for keyword in search_keywords:\n",
        "  new_tweets=new_tweets+api.search(q = keyword,tweet_mode='extended', count = 500 ,lang='en')\n",
        "\n",
        "\n",
        " \n"
      ],
      "metadata": {
        "id": "jNAUlRD26qJb"
      },
      "execution_count": null,
      "outputs": []
    },
    {
      "cell_type": "code",
      "source": [
        "# new_tweets = \n",
        "arr=[]\n",
        "for tweet in new_tweets:\n",
        "  arr.append([tweet.full_text])\n"
      ],
      "metadata": {
        "id": "UhAHMVeqjaAZ"
      },
      "execution_count": null,
      "outputs": []
    },
    {
      "cell_type": "code",
      "source": [
        "#Exporting tweets to a csv file for manual labeling\n",
        "tweets_df=pd.DataFrame(arr,columns=['tweets'])\n",
        "tweets_df.to_csv(\"ClassWork1.csv\",header=True)\n",
        "files.download(\"ClassWork1.csv\")\n",
        "\n"
      ],
      "metadata": {
        "colab": {
          "base_uri": "https://localhost:8080/",
          "height": 17
        },
        "id": "wgHvKPCVn7BZ",
        "outputId": "395caf4a-f717-47fc-9aee-2e9a9979a14f"
      },
      "execution_count": null,
      "outputs": [
        {
          "output_type": "display_data",
          "data": {
            "text/plain": [
              "<IPython.core.display.Javascript object>"
            ],
            "application/javascript": [
              "\n",
              "    async function download(id, filename, size) {\n",
              "      if (!google.colab.kernel.accessAllowed) {\n",
              "        return;\n",
              "      }\n",
              "      const div = document.createElement('div');\n",
              "      const label = document.createElement('label');\n",
              "      label.textContent = `Downloading \"${filename}\": `;\n",
              "      div.appendChild(label);\n",
              "      const progress = document.createElement('progress');\n",
              "      progress.max = size;\n",
              "      div.appendChild(progress);\n",
              "      document.body.appendChild(div);\n",
              "\n",
              "      const buffers = [];\n",
              "      let downloaded = 0;\n",
              "\n",
              "      const channel = await google.colab.kernel.comms.open(id);\n",
              "      // Send a message to notify the kernel that we're ready.\n",
              "      channel.send({})\n",
              "\n",
              "      for await (const message of channel.messages) {\n",
              "        // Send a message to notify the kernel that we're ready.\n",
              "        channel.send({})\n",
              "        if (message.buffers) {\n",
              "          for (const buffer of message.buffers) {\n",
              "            buffers.push(buffer);\n",
              "            downloaded += buffer.byteLength;\n",
              "            progress.value = downloaded;\n",
              "          }\n",
              "        }\n",
              "      }\n",
              "      const blob = new Blob(buffers, {type: 'application/binary'});\n",
              "      const a = document.createElement('a');\n",
              "      a.href = window.URL.createObjectURL(blob);\n",
              "      a.download = filename;\n",
              "      div.appendChild(a);\n",
              "      a.click();\n",
              "      div.remove();\n",
              "    }\n",
              "  "
            ]
          },
          "metadata": {}
        },
        {
          "output_type": "display_data",
          "data": {
            "text/plain": [
              "<IPython.core.display.Javascript object>"
            ],
            "application/javascript": [
              "download(\"download_196c3cad-7c7e-4762-b5a2-e7c0d88288b8\", \"ClassWork1.csv\", 75671)"
            ]
          },
          "metadata": {}
        }
      ]
    },
    {
      "cell_type": "markdown",
      "source": [
        "# PART 2: Data Labelling\n",
        "We decided to use TextBlob to do initial labelling since we have a large number of tweets. TextBlob is a lexicon-based sentiment analyzer. TextBlob has rules that categorize a tweet with a range of negative to positive values.\n",
        "\n",
        "Initially, we collected 170 tweets, we hand labelled them to negative/positive/neutral. this is attached with this notebook . We then ran TextBlob and compared our results.\n",
        "\n",
        "As we are using TextBlob to label our data, task 1 and 2 of Part B of the coursework are combined in the upcoming cells. We defined a function that calculates polarity of a tweet using TextBlob, -ve polarity is labelled -1, +ve polarity is labelled 1 and tweets with polarity = 0 will be labelled 0.\n",
        "\n",
        "Label\tDescription\n",
        "\n",
        " 1.0\t+ve tweet\n",
        "-1.0  -ve tweet\n",
        "0.0\tneutral tweet\n",
        "\n"
      ],
      "metadata": {
        "id": "Ix9lqLKQPuHQ"
      }
    },
    {
      "cell_type": "code",
      "source": [
        "#Importing the same dataset (hosted on Github) for labeling using TextBlob\n",
        "importedData=pd.read_csv(\"https://raw.githubusercontent.com/mrkhmath/CW1CSV/main/ClassWork1.csv\")\n"
      ],
      "metadata": {
        "id": "DvRNOXIBhbLM"
      },
      "execution_count": null,
      "outputs": []
    },
    {
      "cell_type": "code",
      "source": [
        "# Labeling each tweet based on it's sentiment polarity using TextBlob\n",
        "tweetPolarity=[]\n",
        "tweetSubjectiviry=[]\n",
        "positiveTweets=[]\n",
        "negativeTweets=[]\n",
        "for index in range(len(importedData)):\n",
        "  tweet=(importedData.loc[index,\"tweets\"])\n",
        "  if TextBlob(tweet).sentiment.polarity>0:\n",
        "   tweetPolarity.append(\"Positive\")\n",
        "   positiveTweets.append(tweet)\n",
        "  elif TextBlob(tweet).sentiment.polarity<0:\n",
        "    tweetPolarity.append(\"Negative\")\n",
        "    negativeTweets.append(tweet)\n",
        "  else:  \n",
        "    tweetPolarity.append(\"Neutral\")\n",
        "  tweetSubjectiviry.append(TextBlob(tweet).sentiment.subjectivity)\n",
        "importedData[\"label\"]=tweetPolarity\n",
        "importedData[\"Subjectivity\"]=tweetSubjectiviry\n",
        "importedData"
      ],
      "metadata": {
        "colab": {
          "base_uri": "https://localhost:8080/",
          "height": 423
        },
        "id": "9baL_3BpnXj9",
        "outputId": "7f2d8bf9-6f8a-46a7-9a63-fef30bb8393d"
      },
      "execution_count": null,
      "outputs": [
        {
          "output_type": "execute_result",
          "data": {
            "text/plain": [
              "                                                tweets     label  Subjectivity\n",
              "0    RT @admediaoffice: In the latest episode of Ab...  Positive         0.900\n",
              "1    RT @IndiaToday: The trilateral initiative will...   Neutral         0.000\n",
              "2    RT @myDopamineApp: 🇦🇪 😎DOPAMINE x UAE😎🇦🇪\\n\\nHe...  Positive         0.600\n",
              "3    RT @ipsdxb: Decentralized Finance (DeFi) - A r...   Neutral         0.000\n",
              "4    The trilateral initiative will serve as a foru...   Neutral         0.000\n",
              "..                                                 ...       ...           ...\n",
              "249  Artificial Intelligence is going to the moon! ...  Negative         1.000\n",
              "250  Artificial Intelligence is going to the moon! ...  Negative         1.000\n",
              "251  Artificial Intelligence is going to the moon! ...  Negative         1.000\n",
              "252  UAE's Lunar Rover Will Use Artificial Intellig...  Positive         0.875\n",
              "253  UAE lunar rover will test 1st #artificialintel...   Neutral         0.000\n",
              "\n",
              "[254 rows x 3 columns]"
            ],
            "text/html": [
              "\n",
              "  <div id=\"df-ae21e339-54d6-40f1-9e1b-f4443c3c532d\">\n",
              "    <div class=\"colab-df-container\">\n",
              "      <div>\n",
              "<style scoped>\n",
              "    .dataframe tbody tr th:only-of-type {\n",
              "        vertical-align: middle;\n",
              "    }\n",
              "\n",
              "    .dataframe tbody tr th {\n",
              "        vertical-align: top;\n",
              "    }\n",
              "\n",
              "    .dataframe thead th {\n",
              "        text-align: right;\n",
              "    }\n",
              "</style>\n",
              "<table border=\"1\" class=\"dataframe\">\n",
              "  <thead>\n",
              "    <tr style=\"text-align: right;\">\n",
              "      <th></th>\n",
              "      <th>tweets</th>\n",
              "      <th>label</th>\n",
              "      <th>Subjectivity</th>\n",
              "    </tr>\n",
              "  </thead>\n",
              "  <tbody>\n",
              "    <tr>\n",
              "      <th>0</th>\n",
              "      <td>RT @admediaoffice: In the latest episode of Ab...</td>\n",
              "      <td>Positive</td>\n",
              "      <td>0.900</td>\n",
              "    </tr>\n",
              "    <tr>\n",
              "      <th>1</th>\n",
              "      <td>RT @IndiaToday: The trilateral initiative will...</td>\n",
              "      <td>Neutral</td>\n",
              "      <td>0.000</td>\n",
              "    </tr>\n",
              "    <tr>\n",
              "      <th>2</th>\n",
              "      <td>RT @myDopamineApp: 🇦🇪 😎DOPAMINE x UAE😎🇦🇪\\n\\nHe...</td>\n",
              "      <td>Positive</td>\n",
              "      <td>0.600</td>\n",
              "    </tr>\n",
              "    <tr>\n",
              "      <th>3</th>\n",
              "      <td>RT @ipsdxb: Decentralized Finance (DeFi) - A r...</td>\n",
              "      <td>Neutral</td>\n",
              "      <td>0.000</td>\n",
              "    </tr>\n",
              "    <tr>\n",
              "      <th>4</th>\n",
              "      <td>The trilateral initiative will serve as a foru...</td>\n",
              "      <td>Neutral</td>\n",
              "      <td>0.000</td>\n",
              "    </tr>\n",
              "    <tr>\n",
              "      <th>...</th>\n",
              "      <td>...</td>\n",
              "      <td>...</td>\n",
              "      <td>...</td>\n",
              "    </tr>\n",
              "    <tr>\n",
              "      <th>249</th>\n",
              "      <td>Artificial Intelligence is going to the moon! ...</td>\n",
              "      <td>Negative</td>\n",
              "      <td>1.000</td>\n",
              "    </tr>\n",
              "    <tr>\n",
              "      <th>250</th>\n",
              "      <td>Artificial Intelligence is going to the moon! ...</td>\n",
              "      <td>Negative</td>\n",
              "      <td>1.000</td>\n",
              "    </tr>\n",
              "    <tr>\n",
              "      <th>251</th>\n",
              "      <td>Artificial Intelligence is going to the moon! ...</td>\n",
              "      <td>Negative</td>\n",
              "      <td>1.000</td>\n",
              "    </tr>\n",
              "    <tr>\n",
              "      <th>252</th>\n",
              "      <td>UAE's Lunar Rover Will Use Artificial Intellig...</td>\n",
              "      <td>Positive</td>\n",
              "      <td>0.875</td>\n",
              "    </tr>\n",
              "    <tr>\n",
              "      <th>253</th>\n",
              "      <td>UAE lunar rover will test 1st #artificialintel...</td>\n",
              "      <td>Neutral</td>\n",
              "      <td>0.000</td>\n",
              "    </tr>\n",
              "  </tbody>\n",
              "</table>\n",
              "<p>254 rows × 3 columns</p>\n",
              "</div>\n",
              "      <button class=\"colab-df-convert\" onclick=\"convertToInteractive('df-ae21e339-54d6-40f1-9e1b-f4443c3c532d')\"\n",
              "              title=\"Convert this dataframe to an interactive table.\"\n",
              "              style=\"display:none;\">\n",
              "        \n",
              "  <svg xmlns=\"http://www.w3.org/2000/svg\" height=\"24px\"viewBox=\"0 0 24 24\"\n",
              "       width=\"24px\">\n",
              "    <path d=\"M0 0h24v24H0V0z\" fill=\"none\"/>\n",
              "    <path d=\"M18.56 5.44l.94 2.06.94-2.06 2.06-.94-2.06-.94-.94-2.06-.94 2.06-2.06.94zm-11 1L8.5 8.5l.94-2.06 2.06-.94-2.06-.94L8.5 2.5l-.94 2.06-2.06.94zm10 10l.94 2.06.94-2.06 2.06-.94-2.06-.94-.94-2.06-.94 2.06-2.06.94z\"/><path d=\"M17.41 7.96l-1.37-1.37c-.4-.4-.92-.59-1.43-.59-.52 0-1.04.2-1.43.59L10.3 9.45l-7.72 7.72c-.78.78-.78 2.05 0 2.83L4 21.41c.39.39.9.59 1.41.59.51 0 1.02-.2 1.41-.59l7.78-7.78 2.81-2.81c.8-.78.8-2.07 0-2.86zM5.41 20L4 18.59l7.72-7.72 1.47 1.35L5.41 20z\"/>\n",
              "  </svg>\n",
              "      </button>\n",
              "      \n",
              "  <style>\n",
              "    .colab-df-container {\n",
              "      display:flex;\n",
              "      flex-wrap:wrap;\n",
              "      gap: 12px;\n",
              "    }\n",
              "\n",
              "    .colab-df-convert {\n",
              "      background-color: #E8F0FE;\n",
              "      border: none;\n",
              "      border-radius: 50%;\n",
              "      cursor: pointer;\n",
              "      display: none;\n",
              "      fill: #1967D2;\n",
              "      height: 32px;\n",
              "      padding: 0 0 0 0;\n",
              "      width: 32px;\n",
              "    }\n",
              "\n",
              "    .colab-df-convert:hover {\n",
              "      background-color: #E2EBFA;\n",
              "      box-shadow: 0px 1px 2px rgba(60, 64, 67, 0.3), 0px 1px 3px 1px rgba(60, 64, 67, 0.15);\n",
              "      fill: #174EA6;\n",
              "    }\n",
              "\n",
              "    [theme=dark] .colab-df-convert {\n",
              "      background-color: #3B4455;\n",
              "      fill: #D2E3FC;\n",
              "    }\n",
              "\n",
              "    [theme=dark] .colab-df-convert:hover {\n",
              "      background-color: #434B5C;\n",
              "      box-shadow: 0px 1px 3px 1px rgba(0, 0, 0, 0.15);\n",
              "      filter: drop-shadow(0px 1px 2px rgba(0, 0, 0, 0.3));\n",
              "      fill: #FFFFFF;\n",
              "    }\n",
              "  </style>\n",
              "\n",
              "      <script>\n",
              "        const buttonEl =\n",
              "          document.querySelector('#df-ae21e339-54d6-40f1-9e1b-f4443c3c532d button.colab-df-convert');\n",
              "        buttonEl.style.display =\n",
              "          google.colab.kernel.accessAllowed ? 'block' : 'none';\n",
              "\n",
              "        async function convertToInteractive(key) {\n",
              "          const element = document.querySelector('#df-ae21e339-54d6-40f1-9e1b-f4443c3c532d');\n",
              "          const dataTable =\n",
              "            await google.colab.kernel.invokeFunction('convertToInteractive',\n",
              "                                                     [key], {});\n",
              "          if (!dataTable) return;\n",
              "\n",
              "          const docLinkHtml = 'Like what you see? Visit the ' +\n",
              "            '<a target=\"_blank\" href=https://colab.research.google.com/notebooks/data_table.ipynb>data table notebook</a>'\n",
              "            + ' to learn more about interactive tables.';\n",
              "          element.innerHTML = '';\n",
              "          dataTable['output_type'] = 'display_data';\n",
              "          await google.colab.output.renderOutput(dataTable, element);\n",
              "          const docLink = document.createElement('div');\n",
              "          docLink.innerHTML = docLinkHtml;\n",
              "          element.appendChild(docLink);\n",
              "        }\n",
              "      </script>\n",
              "    </div>\n",
              "  </div>\n",
              "  "
            ]
          },
          "metadata": {},
          "execution_count": 4
        }
      ]
    },
    {
      "cell_type": "markdown",
      "source": [
        "# **Positive polarity tweets**\n",
        "\n",
        "\n",
        "\n",
        "\n"
      ],
      "metadata": {
        "id": "jXlPRVq7ESQU"
      }
    },
    {
      "cell_type": "code",
      "source": [
        "pd.DataFrame(positiveTweets)"
      ],
      "metadata": {
        "colab": {
          "base_uri": "https://localhost:8080/",
          "height": 2978
        },
        "id": "GoG2Iojv32Aa",
        "outputId": "830b766a-1b37-4509-84f6-b7461942b196"
      },
      "execution_count": null,
      "outputs": [
        {
          "output_type": "execute_result",
          "data": {
            "text/plain": [
              "                                                     0\n",
              "0    RT @admediaoffice: In the latest episode of Ab...\n",
              "1    RT @myDopamineApp: 🇦🇪 😎DOPAMINE x UAE😎🇦🇪\\n\\nHe...\n",
              "2    In the latest episode of Abu Dhabi Sustainabil...\n",
              "3    RT @bsindia: India, France and the United Arab...\n",
              "4    India, France and the United Arab Emirates on ...\n",
              "..                                                 ...\n",
              "111  RT @gulf_news: UAE: 52 students become first g...\n",
              "112  Mohamed bin Zayed University in #UAE graduates...\n",
              "113  UAE: 52 students become first graduates of MBZ...\n",
              "114  UAE's Lunar Rover Will Use Artificial Intellig...\n",
              "115  UAE's Lunar Rover Will Use Artificial Intellig...\n",
              "\n",
              "[116 rows x 1 columns]"
            ],
            "text/html": [
              "\n",
              "  <div id=\"df-b7f53de5-5c69-4eea-b1a1-d640dda99b7f\">\n",
              "    <div class=\"colab-df-container\">\n",
              "      <div>\n",
              "<style scoped>\n",
              "    .dataframe tbody tr th:only-of-type {\n",
              "        vertical-align: middle;\n",
              "    }\n",
              "\n",
              "    .dataframe tbody tr th {\n",
              "        vertical-align: top;\n",
              "    }\n",
              "\n",
              "    .dataframe thead th {\n",
              "        text-align: right;\n",
              "    }\n",
              "</style>\n",
              "<table border=\"1\" class=\"dataframe\">\n",
              "  <thead>\n",
              "    <tr style=\"text-align: right;\">\n",
              "      <th></th>\n",
              "      <th>0</th>\n",
              "    </tr>\n",
              "  </thead>\n",
              "  <tbody>\n",
              "    <tr>\n",
              "      <th>0</th>\n",
              "      <td>RT @admediaoffice: In the latest episode of Ab...</td>\n",
              "    </tr>\n",
              "    <tr>\n",
              "      <th>1</th>\n",
              "      <td>RT @myDopamineApp: 🇦🇪 😎DOPAMINE x UAE😎🇦🇪\\n\\nHe...</td>\n",
              "    </tr>\n",
              "    <tr>\n",
              "      <th>2</th>\n",
              "      <td>In the latest episode of Abu Dhabi Sustainabil...</td>\n",
              "    </tr>\n",
              "    <tr>\n",
              "      <th>3</th>\n",
              "      <td>RT @bsindia: India, France and the United Arab...</td>\n",
              "    </tr>\n",
              "    <tr>\n",
              "      <th>4</th>\n",
              "      <td>India, France and the United Arab Emirates on ...</td>\n",
              "    </tr>\n",
              "    <tr>\n",
              "      <th>...</th>\n",
              "      <td>...</td>\n",
              "    </tr>\n",
              "    <tr>\n",
              "      <th>111</th>\n",
              "      <td>RT @gulf_news: UAE: 52 students become first g...</td>\n",
              "    </tr>\n",
              "    <tr>\n",
              "      <th>112</th>\n",
              "      <td>Mohamed bin Zayed University in #UAE graduates...</td>\n",
              "    </tr>\n",
              "    <tr>\n",
              "      <th>113</th>\n",
              "      <td>UAE: 52 students become first graduates of MBZ...</td>\n",
              "    </tr>\n",
              "    <tr>\n",
              "      <th>114</th>\n",
              "      <td>UAE's Lunar Rover Will Use Artificial Intellig...</td>\n",
              "    </tr>\n",
              "    <tr>\n",
              "      <th>115</th>\n",
              "      <td>UAE's Lunar Rover Will Use Artificial Intellig...</td>\n",
              "    </tr>\n",
              "  </tbody>\n",
              "</table>\n",
              "<p>116 rows × 1 columns</p>\n",
              "</div>\n",
              "      <button class=\"colab-df-convert\" onclick=\"convertToInteractive('df-b7f53de5-5c69-4eea-b1a1-d640dda99b7f')\"\n",
              "              title=\"Convert this dataframe to an interactive table.\"\n",
              "              style=\"display:none;\">\n",
              "        \n",
              "  <svg xmlns=\"http://www.w3.org/2000/svg\" height=\"24px\"viewBox=\"0 0 24 24\"\n",
              "       width=\"24px\">\n",
              "    <path d=\"M0 0h24v24H0V0z\" fill=\"none\"/>\n",
              "    <path d=\"M18.56 5.44l.94 2.06.94-2.06 2.06-.94-2.06-.94-.94-2.06-.94 2.06-2.06.94zm-11 1L8.5 8.5l.94-2.06 2.06-.94-2.06-.94L8.5 2.5l-.94 2.06-2.06.94zm10 10l.94 2.06.94-2.06 2.06-.94-2.06-.94-.94-2.06-.94 2.06-2.06.94z\"/><path d=\"M17.41 7.96l-1.37-1.37c-.4-.4-.92-.59-1.43-.59-.52 0-1.04.2-1.43.59L10.3 9.45l-7.72 7.72c-.78.78-.78 2.05 0 2.83L4 21.41c.39.39.9.59 1.41.59.51 0 1.02-.2 1.41-.59l7.78-7.78 2.81-2.81c.8-.78.8-2.07 0-2.86zM5.41 20L4 18.59l7.72-7.72 1.47 1.35L5.41 20z\"/>\n",
              "  </svg>\n",
              "      </button>\n",
              "      \n",
              "  <style>\n",
              "    .colab-df-container {\n",
              "      display:flex;\n",
              "      flex-wrap:wrap;\n",
              "      gap: 12px;\n",
              "    }\n",
              "\n",
              "    .colab-df-convert {\n",
              "      background-color: #E8F0FE;\n",
              "      border: none;\n",
              "      border-radius: 50%;\n",
              "      cursor: pointer;\n",
              "      display: none;\n",
              "      fill: #1967D2;\n",
              "      height: 32px;\n",
              "      padding: 0 0 0 0;\n",
              "      width: 32px;\n",
              "    }\n",
              "\n",
              "    .colab-df-convert:hover {\n",
              "      background-color: #E2EBFA;\n",
              "      box-shadow: 0px 1px 2px rgba(60, 64, 67, 0.3), 0px 1px 3px 1px rgba(60, 64, 67, 0.15);\n",
              "      fill: #174EA6;\n",
              "    }\n",
              "\n",
              "    [theme=dark] .colab-df-convert {\n",
              "      background-color: #3B4455;\n",
              "      fill: #D2E3FC;\n",
              "    }\n",
              "\n",
              "    [theme=dark] .colab-df-convert:hover {\n",
              "      background-color: #434B5C;\n",
              "      box-shadow: 0px 1px 3px 1px rgba(0, 0, 0, 0.15);\n",
              "      filter: drop-shadow(0px 1px 2px rgba(0, 0, 0, 0.3));\n",
              "      fill: #FFFFFF;\n",
              "    }\n",
              "  </style>\n",
              "\n",
              "      <script>\n",
              "        const buttonEl =\n",
              "          document.querySelector('#df-b7f53de5-5c69-4eea-b1a1-d640dda99b7f button.colab-df-convert');\n",
              "        buttonEl.style.display =\n",
              "          google.colab.kernel.accessAllowed ? 'block' : 'none';\n",
              "\n",
              "        async function convertToInteractive(key) {\n",
              "          const element = document.querySelector('#df-b7f53de5-5c69-4eea-b1a1-d640dda99b7f');\n",
              "          const dataTable =\n",
              "            await google.colab.kernel.invokeFunction('convertToInteractive',\n",
              "                                                     [key], {});\n",
              "          if (!dataTable) return;\n",
              "\n",
              "          const docLinkHtml = 'Like what you see? Visit the ' +\n",
              "            '<a target=\"_blank\" href=https://colab.research.google.com/notebooks/data_table.ipynb>data table notebook</a>'\n",
              "            + ' to learn more about interactive tables.';\n",
              "          element.innerHTML = '';\n",
              "          dataTable['output_type'] = 'display_data';\n",
              "          await google.colab.output.renderOutput(dataTable, element);\n",
              "          const docLink = document.createElement('div');\n",
              "          docLink.innerHTML = docLinkHtml;\n",
              "          element.appendChild(docLink);\n",
              "        }\n",
              "      </script>\n",
              "    </div>\n",
              "  </div>\n",
              "  "
            ]
          },
          "metadata": {},
          "execution_count": 99
        }
      ]
    },
    {
      "cell_type": "code",
      "source": [
        "# Defining a function to calculate the percentage \n",
        "def percentage(p,w):\n",
        "  return (p*100/w)"
      ],
      "metadata": {
        "id": "xbm2umTdsxOD"
      },
      "execution_count": null,
      "outputs": []
    },
    {
      "cell_type": "code",
      "source": [
        "# Calculating the percentage of each type of polarity \n",
        "positive=percentage(len(pd.DataFrame(positiveTweets)),len(importedData))\n",
        "negative=percentage(len(pd.DataFrame(negativeTweets)),len(importedData))\n",
        "neutral=100-(positive+negative)\n"
      ],
      "metadata": {
        "id": "6PzgQici2N31"
      },
      "execution_count": null,
      "outputs": []
    },
    {
      "cell_type": "code",
      "source": [
        "# Representing Polarity in a Dounght Chart\n",
        "PolarityTypes=[\"Positive\",\"Negative\",\"Neutral\"]\n",
        "values=[positive,negative,neutral]\n",
        "colors = ['lightgreen', 'pink', 'yellow']\n",
        "explode = (0.05, 0.05, 0.05, 0.05, 0.05)\n",
        "  \n",
        "# Pie Chart\n",
        "plt.pie(values, colors=colors, labels=PolarityTypes,\n",
        "        autopct='%1.1f%%', pctdistance=0.85)\n",
        "  \n",
        "# draw circle\n",
        "centre_circle = plt.Circle((0, 0), 0.70, fc='white')\n",
        "fig = plt.gcf()\n",
        "  \n",
        "# Adding Circle in Pie chart\n",
        "fig.gca().add_artist(centre_circle)\n",
        "  \n",
        "# Adding Title of chart\n",
        "plt.title('Technology and Innovation in UAE (Twitter Sentiment Polarity Using TextBlob)')\n",
        "  \n",
        "# Displaying Chart\n",
        "plt.show()\n"
      ],
      "metadata": {
        "colab": {
          "base_uri": "https://localhost:8080/",
          "height": 264
        },
        "id": "LhTuPbzw4tbH",
        "outputId": "6cf2ee5d-9025-4c18-b8d9-1ffb83cf1a1b"
      },
      "execution_count": null,
      "outputs": [
        {
          "output_type": "display_data",
          "data": {
            "text/plain": [
              "<Figure size 432x288 with 1 Axes>"
            ],
            "image/png": "[encoded data removed]"
          },
          "metadata": {}
        }
      ]
    },
    {
      "cell_type": "code",
      "source": [],
      "metadata": {
        "id": "8NJCv0hKAerH"
      },
      "execution_count": null,
      "outputs": []
    }
  ],
  "metadata": {
    "colab": {
      "provenance": [],
      "include_colab_link": true
    },
    "kernelspec": {
      "display_name": "Python 3",
      "name": "python3"
    },
    "language_info": {
      "name": "python"
    }
  },
  "nbformat": 4,
  "nbformat_minor": 0
}